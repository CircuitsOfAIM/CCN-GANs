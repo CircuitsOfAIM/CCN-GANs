{
  "metadata": {
    "colab": {
      "provenance": []
    },
    "kernelspec": {
      "name": "python",
      "display_name": "Python (Pyodide)",
      "language": "python"
    },
    "language_info": {
      "codemirror_mode": {
        "name": "python",
        "version": 3
      },
      "file_extension": ".py",
      "mimetype": "text/x-python",
      "name": "python",
      "nbconvert_exporter": "python",
      "pygments_lexer": "ipython3",
      "version": "3.8"
    }
  },
  "nbformat_minor": 4,
  "nbformat": 4,
  "cells": [
    {
      "cell_type": "markdown",
      "source": "### Generating gameboy characters with generative adversarial networks\n\nTraining your generative adversarial network on the  0x72.itch.io-scraped dataset of 185472 16 × 16 pixel 2-bit gameboy-character-like images to generate the characters.\n\nNOTE : This code is an assignment for the Deep Learning course on Radboud University.The training data set has provided by the lecturer through this link (https://umuguc.github.io/file-sharing/gbc_dataset.npy.zip). All rights are reserved.",
      "metadata": {
        "id": "s7yvz5J7xyDf"
      }
    },
    {
      "cell_type": "code",
      "source": "import random\nfrom typing import Tuple\nfrom torchvision.transforms import ToPILImage\nimport numpy as np\nimport torch\nimport torch.nn as nn\nimport torch.optim as optim\nfrom PIL import Image\nfrom torch.utils.data import Dataset, DataLoader",
      "metadata": {
        "id": "gunIapS_z7tZ"
      },
      "execution_count": null,
      "outputs": []
    },
    {
      "cell_type": "code",
      "source": "random.seed(42)\nnp.random.seed(42)\ntorch.manual_seed(42)\n\nif torch.cuda.is_available():\n    torch.cuda.manual_seed_all(42)\n\ndevice = torch.device(\"cuda\" if torch.cuda.is_available() else \"cpu\")",
      "metadata": {
        "id": "i-BQM_nWiuTL"
      },
      "execution_count": null,
      "outputs": []
    },
    {
      "cell_type": "code",
      "source": "gbc_ndarray = np.load(\"./gbc_dataset.npy\")\n\nclass GBCDataset(Dataset):\n    \"\"\"\n    Implement gameboy character dataset (GBCDataset) class.\n\n    Attributes:\n        dat (np.ndarray): Data.\n        dev (str): Device.\n    \"\"\"\n    def __init__(self, data, device):\n        \"\"\"\n        Instantiate GBCDataset class.\n\n        Args:\n            data (np.ndarray): Data.\n            device (str): Device.\n        \"\"\"\n        self.dat = data\n        self.dev = device\n\n    def __len__(self):\n        \"\"\"\n        Get dataset cardinality.\n\n        Returns:\n            int: Dataset cardinality.\n        \"\"\"\n        return self.dat.shape[0]\n\n    def __getitem__(self, index):\n        \"\"\"\n        Get dataset element.\n\n        Args:\n            index (int): Index.\n\n        Returns:\n            torch.Tensor: Dataset element.\n        \"\"\"\n        return torch.from_numpy(self.dat[index].astype(np.float32) / 127.5 - 1.0).to(self.dev)\n\ngbc_dataset = GBCDataset(gbc_ndarray,device)\ngbc_data_loader = DataLoader(gbc_dataset, 42, True)",
      "metadata": {
        "id": "uMQHEZqVy67L",
        "outputId": "4f3da438-8d99-4e23-d46f-989459e71f8b",
        "colab": {
          "base_uri": "https://localhost:8080/"
        }
      },
      "execution_count": null,
      "outputs": []
    },
    {
      "cell_type": "code",
      "source": "class GBCGAN:\n    \"\"\"\n    Implement gameboy character generative adversarial network (GBCGAN) class.\n\n    Attributes:\n        _dis_net (nn.Sequential): Discriminator network.\n        _dis_opt (optim.Optimizer): Discriminator optimiser.\n        _gen_net (nn.Sequential): Generator network.\n        _gen_opt (optim.Optimizer): Generator optimiser.\n        _lat_dim (int): Latent dimensionality.\n        _los_fun (nn.Loss): Loss function.\n        dev (str): Device.\n\n    Methods:\n        _get_discriminator(): Get discriminator network and discriminator optimiser.\n        _get_generator(): Get generator network and generator optimiser.\n        generate_images(batch_size): Generate fake images.\n        train_networks(dataset, epoch_num, batch_size): Train discriminator network and generator network.\n    \"\"\"\n\n    def __init__(self, device: str = \"cuda\") -> None:\n        \"\"\"\n        Instantiate GBCGAN class.\n\n        Args:\n            device (str): Device.\n        \"\"\"\n        self.dev = device\n        self._dis_net, self._dis_opt = self._get_discriminator()\n        self._gen_net, self._gen_opt = self._get_generator()\n        self._lat_dim = self._gen_net[0].in_channels\n        self._los_fun = nn.BCELoss()\n\n    def _get_discriminator(self) -> Tuple[nn.Sequential, optim.Optimizer]:\n        \"\"\"\n        Get discriminator network and discriminator optimiser.\n\n        Returns:\n            network (nn.Sequential): Discriminator network.\n            optimiser (optim.Optimizer): Discriminator optimiser.\n        \"\"\"\n\n        network = nn.Sequential(\n            nn.Conv2d(1,16,kernel_size=4, stride=2, padding=1,bias=False),\n            nn.BatchNorm2d(16),\n            nn.Conv2d(16,32,kernel_size=4, stride=2, padding=1, bias=False),\n            nn.BatchNorm2d(32),\n            nn.LeakyReLU(negative_slope=0.2),\n            nn.Conv2d(16,1,kernel_size=4, stride=1, padding=1, bias=False),\n            nn.Sigmoid()\n        ).to(self.dev)\n\n\n        optimiser = optim.Adam(network.parameters(), lr=0.0200, betas=(0.5, 0.999))\n\n        return network, optimiser\n\n    def _get_generator(self) -> Tuple[nn.Sequential, optim.Optimizer]:\n        \"\"\"\n        Get generator network and generator optimiser.\n\n        Returns:\n            network (nn.Sequential): Generator network.\n            optimiser (optim.Optimizer): Generator optimiser.\n        \"\"\"\n\n        network = nn.Sequential(\n            nn.ConvTranspose2d(64,32,kernel_size=4, stride=1, padding=0, bias=False),\n            nn.BatchNorm2d(32),\n            nn.ReLU(),\n            nn.ConvTranspose2d(32,16,kernel_size=4, stride=2, padding=1, bias=False),\n            nn.BatchNorm2d(16),\n            nn.ReLU(),\n            nn.ConvTranspose2d(32,1,kernel_size=4, stride=2, padding=1, bias=False),\n            nn.Tanh()\n        ).to(self.dev)\n\n        optimiser = optim.Adam(network.parameters(), lr=0.2000, betas=(0.5, 0.999))\n\n        return network, optimiser\n\n    \n\n    def generate_images(self, batch_size):\n        \"\"\"\n        Generate fake images.\n\n        Args:\n            batch_size (int): Batch size.\n\n        Returns:\n            fake_images (PIL.Image): Fake images.\n        \"\"\"\n        from torchvision.transforms import ToPILImage\n        random_latents = torch.randn(batch_size, self._lat_dim,1,1, device=self.dev)\n        temp_images = self._gen_net(random_latents)\n        to_pil = ToPILImage()\n\n        fake_images = []\n\n        for i in range(batch_size):\n            fake_image = to_pil(temp_images[i].cpu().detach())\n            fake_images.append(fake_image)\n\n        final_image = Image.new(\"L\", (16 * batch_size, 16))\n\n        for i, image in enumerate(fake_images):\n            final_image.paste(image, (16 * i, 0))\n\n        return final_image\n\n    def train_networks(self, gbc_data_loader: DataLoader, epoch_number: int=1) -> None:\n        \"\"\"\n        Train discriminator network and generator network.\n\n        Args:\n            gbc_data_loader (DataLoader): GBC data loader.\n            epoch_number (int): Epochs number.\n        \"\"\"\n        self._dis_net.train()\n        self._gen_net.train()\n        for epoch in range(epoch_number):\n            discriminator_losses = []\n            generator_losses = []\n\n            for real_images in gbc_data_loader:\n\n                random_latents =torch.randn(real_images.shape[0], self._lat_dim,1,1, device=self.dev)\n                fake_images = self._gen_net(random_latents)\n                fake_probs =self._dis_net(fake_images)\n                fake_labels =torch.zeros(fake_probs.shape)\n                \n                real_probs =self._dis_net(real_images)\n                real_labels =torch.ones(real_probs.shape)\n\n                discriminator_loss = self._los_fun(fake_probs,fake_labels)+self._los_fun(real_probs,real_labels)\n                self._dis_opt.zero_grad()\n                discriminator_loss.backward()\n                self._dis_opt.step()\n\n                discriminator_losses.append(discriminator_loss.item())\n\n                random_latents =torch.randn(real_images.shape[0], self._lat_dim,1,1, device=self.dev)\n                fake_images =self._gen_net(random_latents)\n                fake_probs =self._dis_net(fake_images)\n                real_labels =torch.ones_like(fake_probs)\n\n                generator_loss =self._los_fun(fake_probs, real_labels)\n                self._gen_opt.zero_grad()\n                generator_loss.backward()\n                self._gen_opt.step()\n\n                generator_losses.append(generator_loss.item())\n\n                print(f\"Epoch: [{epoch + 1}/{epoch_number}]\")\n                print(f\"Discriminator loss: {np.mean(discriminator_losses):.4f}\")\n                print(f\"Generator loss: {np.mean(generator_losses):.4f}\")\n\n        self._dis_net.eval()\n        self._gen_net.eval()\n\ngbcgan = GBCGAN(device)",
      "metadata": {
        "id": "8q8IXr2lxshr"
      },
      "execution_count": null,
      "outputs": []
    },
    {
      "cell_type": "markdown",
      "source": "Training network using 10 epoch :",
      "metadata": {
        "id": "SNeucmCE0C8i"
      }
    },
    {
      "cell_type": "code",
      "source": "gbcgan.train_networks(gbc_data_loader,10)",
      "metadata": {
        "id": "CAsk1kyyiXYA",
        "colab": {
          "base_uri": "https://localhost:8080/",
          "height": 1000
        },
        "outputId": "fd00b190-c68c-4cd5-af68-a7d447c67f76"
      },
      "execution_count": null,
      "outputs": []
    },
    {
      "cell_type": "code",
      "source": "fake_images = gbcgan.generate_images(42)\n\nfake_images.show()\nfake_images.save(\"./fake_images.png\")",
      "metadata": {
        "id": "R4Pk2keM1-kr",
        "colab": {
          "base_uri": "https://localhost:8080/",
          "height": 34
        },
        "outputId": "c36a01ff-a786-4665-a131-83981ce4ca44"
      },
      "execution_count": null,
      "outputs": [
        {
          "output_type": "display_data",
          "data": {
            "text/plain": [
              "<PIL.Image.Image image mode=L size=672x16 at 0x7F862781CA60>"
            ],
            "image/png": "[encoded data removed]"
          },
          "metadata": {}
        }
      ]
    }
  ]
}